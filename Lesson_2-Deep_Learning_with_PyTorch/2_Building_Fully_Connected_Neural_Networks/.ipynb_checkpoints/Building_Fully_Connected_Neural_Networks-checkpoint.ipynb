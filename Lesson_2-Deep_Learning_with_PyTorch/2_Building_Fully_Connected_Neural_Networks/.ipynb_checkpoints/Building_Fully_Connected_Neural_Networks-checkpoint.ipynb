{
 "cells": [
  {
   "cell_type": "markdown",
   "metadata": {},
   "source": [
    "# Neural networks with PyTorch\n",
    "\n",
    "Deep learning networks tend to be massive with dozens or hundreds of layers, that's where the term \"deep\" comes from. You can build one of these deep networks using only weight matrices as we did in the previous notebook, but in general it's very cumbersome and difficult to implement. PyTorch has a nice module `nn` that provides a nice way to efficiently build large neural networks."
   ]
  },
  {
   "cell_type": "code",
   "execution_count": 1,
   "metadata": {},
   "outputs": [],
   "source": [
    "# Import necessary packages\n",
    "\n",
    "%matplotlib inline\n",
    "%config InlineBackend.figure_format = 'retina'\n",
    "\n",
    "import numpy as np\n",
    "import torch\n",
    "\n",
    "import helper\n",
    "\n",
    "import matplotlib.pyplot as plt"
   ]
  },
  {
   "cell_type": "markdown",
   "metadata": {},
   "source": [
    "\n",
    "Now we're going to build a larger network that can solve a (formerly) difficult problem, identifying text in an image. Here we'll use the MNIST dataset which consists of greyscale handwritten digits. Each image is 28x28 pixels, you can see a sample below\n",
    "\n",
    "<img src='assets/mnist.png'>\n",
    "\n",
    "Our goal is to build a neural network that can take one of these images and predict the digit in the image.\n",
    "\n",
    "First up, we need to get our dataset. This is provided through the `torchvision` package. The code below will download the MNIST dataset, then create training and test datasets for us. Don't worry too much about the details here, you'll learn more about this later."
   ]
  },
  {
   "cell_type": "code",
   "execution_count": 2,
   "metadata": {},
   "outputs": [
    {
     "name": "stderr",
     "output_type": "stream",
     "text": [
      "\r",
      "0it [00:00, ?it/s]"
     ]
    },
    {
     "name": "stdout",
     "output_type": "stream",
     "text": [
      "Downloading http://yann.lecun.com/exdb/mnist/train-images-idx3-ubyte.gz to /home/mrinmoi/60DaysOfUdacity/Lesson_2-Deep_Learning_with_PyTorch/2_Building_Fully_Connected_Neural_Networks/MNIST/raw/train-images-idx3-ubyte.gz\n"
     ]
    },
    {
     "name": "stderr",
     "output_type": "stream",
     "text": [
      "100%|█████████▉| 9912320/9912422 [02:01<00:00, 110375.85it/s]"
     ]
    },
    {
     "name": "stdout",
     "output_type": "stream",
     "text": [
      "Extracting /home/mrinmoi/60DaysOfUdacity/Lesson_2-Deep_Learning_with_PyTorch/2_Building_Fully_Connected_Neural_Networks/MNIST/raw/train-images-idx3-ubyte.gz\n"
     ]
    },
    {
     "name": "stderr",
     "output_type": "stream",
     "text": [
      "\n",
      "0it [00:00, ?it/s]\u001b[A"
     ]
    },
    {
     "name": "stdout",
     "output_type": "stream",
     "text": [
      "Downloading http://yann.lecun.com/exdb/mnist/train-labels-idx1-ubyte.gz to /home/mrinmoi/60DaysOfUdacity/Lesson_2-Deep_Learning_with_PyTorch/2_Building_Fully_Connected_Neural_Networks/MNIST/raw/train-labels-idx1-ubyte.gz\n"
     ]
    },
    {
     "name": "stderr",
     "output_type": "stream",
     "text": [
      "\n",
      "  0%|          | 0/28881 [00:00<?, ?it/s]\u001b[A\n",
      " 57%|█████▋    | 16384/28881 [00:00<00:00, 49178.29it/s]\u001b[A\n",
      "32768it [00:00, 33074.46it/s]                           \u001b[A\n",
      "0it [00:00, ?it/s]\u001b[A"
     ]
    },
    {
     "name": "stdout",
     "output_type": "stream",
     "text": [
      "Extracting /home/mrinmoi/60DaysOfUdacity/Lesson_2-Deep_Learning_with_PyTorch/2_Building_Fully_Connected_Neural_Networks/MNIST/raw/train-labels-idx1-ubyte.gz\n",
      "Downloading http://yann.lecun.com/exdb/mnist/t10k-images-idx3-ubyte.gz to /home/mrinmoi/60DaysOfUdacity/Lesson_2-Deep_Learning_with_PyTorch/2_Building_Fully_Connected_Neural_Networks/MNIST/raw/t10k-images-idx3-ubyte.gz\n"
     ]
    },
    {
     "name": "stderr",
     "output_type": "stream",
     "text": [
      "\n",
      "  0%|          | 0/1648877 [00:00<?, ?it/s]\u001b[A\n",
      "  1%|          | 16384/1648877 [00:00<00:33, 49247.65it/s]\u001b[A\n",
      "  2%|▏         | 40960/1648877 [00:01<00:29, 54754.12it/s]\u001b[A\n",
      "  4%|▍         | 65536/1648877 [00:01<00:25, 61370.21it/s]\u001b[A\n",
      "  5%|▌         | 90112/1648877 [00:01<00:23, 66073.49it/s]\u001b[A\n",
      "  7%|▋         | 114688/1648877 [00:02<00:19, 79669.83it/s]\u001b[A\n",
      "  8%|▊         | 131072/1648877 [00:02<00:17, 84709.31it/s]\u001b[A\n",
      "  9%|▉         | 147456/1648877 [00:02<00:19, 76512.27it/s]\u001b[A\n",
      " 10%|█         | 172032/1648877 [00:02<00:16, 89865.23it/s]\u001b[A\n",
      " 11%|█▏        | 188416/1648877 [00:02<00:17, 85095.03it/s]\u001b[A\n",
      " 12%|█▏        | 204800/1648877 [00:03<00:16, 89722.86it/s]\u001b[A\n",
      " 13%|█▎        | 221184/1648877 [00:03<00:16, 88410.44it/s]\u001b[A\n",
      " 14%|█▍        | 237568/1648877 [00:03<00:19, 72265.69it/s]\u001b[A\n",
      " 16%|█▋        | 270336/1648877 [00:03<00:15, 88435.68it/s]\u001b[A\n",
      " 17%|█▋        | 286720/1648877 [00:03<00:15, 85691.92it/s]\u001b[A\n",
      " 18%|█▊        | 303104/1648877 [00:04<00:15, 89233.78it/s]\u001b[A\n",
      " 19%|█▉        | 319488/1648877 [00:04<00:15, 86347.25it/s]\u001b[A\n",
      " 20%|██        | 335872/1648877 [00:04<00:14, 92618.73it/s]\u001b[A\n",
      " 21%|██▏       | 352256/1648877 [00:04<00:14, 89077.18it/s]\u001b[A\n",
      " 22%|██▏       | 368640/1648877 [00:04<00:12, 100111.41it/s]\u001b[A\n",
      " 23%|██▎       | 385024/1648877 [00:04<00:12, 99462.84it/s] \u001b[A\n",
      " 24%|██▍       | 401408/1648877 [00:05<00:11, 106323.34it/s]\u001b[A\n",
      " 25%|██▌       | 417792/1648877 [00:05<00:11, 104527.33it/s]\u001b[A\n",
      " 26%|██▋       | 434176/1648877 [00:05<00:19, 63211.77it/s] \u001b[A\n",
      " 29%|██▉       | 483328/1648877 [00:05<00:14, 81380.23it/s]\u001b[A\n",
      " 30%|███       | 499712/1648877 [00:06<00:15, 74616.26it/s]\u001b[A\n",
      " 31%|███▏      | 516096/1648877 [00:06<00:13, 85525.91it/s]\u001b[A\n",
      " 32%|███▏      | 532480/1648877 [00:06<00:13, 84174.65it/s]\u001b[A\n",
      " 33%|███▎      | 548864/1648877 [00:06<00:13, 82872.19it/s]\u001b[A\n",
      " 34%|███▍      | 565248/1648877 [00:06<00:11, 96348.90it/s]\u001b[A\n",
      " 35%|███▌      | 581632/1648877 [00:07<00:13, 81994.19it/s]\u001b[A\n",
      " 36%|███▋      | 598016/1648877 [00:07<00:13, 76455.06it/s]\u001b[A\n",
      " 37%|███▋      | 614400/1648877 [00:07<00:15, 66988.17it/s]\u001b[A\n",
      " 38%|███▊      | 630784/1648877 [00:07<00:15, 67674.84it/s]\u001b[A\n",
      " 39%|███▉      | 638976/1648877 [00:08<00:21, 47568.62it/s]\u001b[A\n",
      " 40%|███▉      | 655360/1648877 [00:08<00:17, 55734.90it/s]\u001b[A\n",
      " 40%|████      | 663552/1648877 [00:09<00:38, 25463.61it/s]\u001b[A\n",
      " 42%|████▏     | 696320/1648877 [00:09<00:30, 31344.22it/s]\u001b[A\n",
      " 44%|████▍     | 729088/1648877 [00:09<00:23, 39851.14it/s]\u001b[A\n",
      " 45%|████▌     | 745472/1648877 [00:10<00:25, 35091.26it/s]\u001b[A\n",
      " 47%|████▋     | 770048/1648877 [00:10<00:18, 46361.22it/s]\u001b[A\n",
      " 48%|████▊     | 786432/1648877 [00:11<00:34, 24709.21it/s]\u001b[A\n",
      " 49%|████▉     | 811008/1648877 [00:12<00:27, 30434.09it/s]\u001b[A\n",
      " 50%|████▉     | 819200/1648877 [00:12<00:26, 31150.78it/s]\u001b[A\n",
      " 50%|█████     | 827392/1648877 [00:12<00:22, 36700.91it/s]\u001b[A\n",
      " 51%|█████     | 835584/1648877 [00:13<00:33, 24308.12it/s]\u001b[A\n",
      " 52%|█████▏    | 851968/1648877 [00:13<00:25, 31738.52it/s]\u001b[A\n",
      " 52%|█████▏    | 860160/1648877 [00:14<00:37, 21105.12it/s]\u001b[A\n",
      " 53%|█████▎    | 868352/1648877 [00:14<00:31, 24991.19it/s]\u001b[A\n",
      " 53%|█████▎    | 876544/1648877 [00:14<00:30, 25462.19it/s]\u001b[A\n",
      " 54%|█████▎    | 884736/1648877 [00:14<00:28, 26398.15it/s]\u001b[A\n",
      " 54%|█████▍    | 892928/1648877 [00:15<00:28, 26783.06it/s]\u001b[A\n",
      " 55%|█████▍    | 901120/1648877 [00:15<00:25, 29011.28it/s]\u001b[A\n",
      " 55%|█████▌    | 909312/1648877 [00:15<00:23, 31628.79it/s]\u001b[A\n",
      " 56%|█████▌    | 917504/1648877 [00:15<00:23, 31444.29it/s]\u001b[A\n",
      " 56%|█████▌    | 925696/1648877 [00:16<00:22, 31797.98it/s]\u001b[A\n",
      " 57%|█████▋    | 933888/1648877 [00:16<00:22, 31853.35it/s]\u001b[A\n",
      "9920512it [02:20, 110375.85it/s]                             A\n",
      " 58%|█████▊    | 958464/1648877 [00:17<00:28, 24580.51it/s]\u001b[A\n",
      " 59%|█████▊    | 966656/1648877 [00:17<00:22, 29750.01it/s]\u001b[A\n",
      " 59%|█████▉    | 974848/1648877 [00:17<00:23, 28965.93it/s]\u001b[A\n",
      " 60%|█████▉    | 983040/1648877 [00:18<00:20, 31810.79it/s]\u001b[A\n",
      " 60%|██████    | 991232/1648877 [00:18<00:22, 29610.77it/s]\u001b[A\n",
      " 61%|██████    | 999424/1648877 [00:18<00:18, 34831.33it/s]\u001b[A\n",
      " 61%|██████    | 1007616/1648877 [00:18<00:18, 35099.35it/s]\u001b[A\n",
      " 62%|██████▏   | 1015808/1648877 [00:19<00:18, 34707.69it/s]\u001b[A\n",
      " 62%|██████▏   | 1024000/1648877 [00:19<00:18, 33074.68it/s]\u001b[A\n",
      " 63%|██████▎   | 1032192/1648877 [00:19<00:17, 34482.78it/s]\u001b[A\n",
      " 63%|██████▎   | 1040384/1648877 [00:20<00:23, 25477.67it/s]\u001b[A\n",
      " 64%|██████▍   | 1056768/1648877 [00:20<00:18, 31806.66it/s]\u001b[A\n",
      " 65%|██████▍   | 1064960/1648877 [00:20<00:18, 31967.53it/s]\u001b[A\n",
      " 65%|██████▌   | 1073152/1648877 [00:20<00:18, 30798.97it/s]\u001b[A\n",
      " 66%|██████▌   | 1081344/1648877 [00:21<00:19, 29457.70it/s]\u001b[A\n",
      " 66%|██████▌   | 1089536/1648877 [00:21<00:16, 34890.97it/s]\u001b[A\n",
      " 67%|██████▋   | 1097728/1648877 [00:21<00:16, 32681.00it/s]\u001b[A\n",
      " 67%|██████▋   | 1105920/1648877 [00:21<00:14, 37282.68it/s]\u001b[A\n",
      " 68%|██████▊   | 1114112/1648877 [00:21<00:13, 39877.48it/s]\u001b[A\n",
      " 68%|██████▊   | 1122304/1648877 [00:22<00:15, 34910.47it/s]\u001b[A\n",
      " 69%|██████▊   | 1130496/1648877 [00:22<00:14, 35779.54it/s]\u001b[A\n",
      " 70%|██████▉   | 1146880/1648877 [00:22<00:13, 38059.50it/s]\u001b[A\n",
      " 70%|███████   | 1155072/1648877 [00:23<00:13, 36679.85it/s]\u001b[A\n",
      " 71%|███████   | 1171456/1648877 [00:23<00:12, 36809.72it/s]\u001b[A\n",
      " 72%|███████▏  | 1179648/1648877 [00:23<00:11, 39826.56it/s]\u001b[A\n",
      " 72%|███████▏  | 1187840/1648877 [00:23<00:12, 38368.95it/s]\u001b[A\n",
      " 73%|███████▎  | 1196032/1648877 [00:24<00:10, 42270.72it/s]\u001b[A\n",
      " 73%|███████▎  | 1204224/1648877 [00:24<00:10, 42361.17it/s]\u001b[A\n",
      " 74%|███████▎  | 1212416/1648877 [00:24<00:09, 44363.31it/s]\u001b[A\n",
      " 74%|███████▍  | 1220608/1648877 [00:24<00:08, 49420.95it/s]\u001b[A\n",
      " 75%|███████▍  | 1228800/1648877 [00:24<00:08, 48658.93it/s]\u001b[A\n",
      " 76%|███████▌  | 1245184/1648877 [00:24<00:07, 54234.70it/s]\u001b[A\n",
      " 76%|███████▌  | 1253376/1648877 [00:25<00:07, 56144.71it/s]\u001b[A\n",
      " 77%|███████▋  | 1269760/1648877 [00:25<00:05, 65203.36it/s]\u001b[A\n",
      " 78%|███████▊  | 1277952/1648877 [00:25<00:05, 61989.40it/s]\u001b[A\n",
      " 78%|███████▊  | 1294336/1648877 [00:25<00:05, 70238.29it/s]\u001b[A\n",
      " 79%|███████▉  | 1310720/1648877 [00:25<00:04, 81593.15it/s]\u001b[A\n",
      " 80%|████████  | 1327104/1648877 [00:25<00:03, 85860.45it/s]\u001b[A\n",
      " 81%|████████▏ | 1343488/1648877 [00:26<00:04, 65745.62it/s]\u001b[A\n",
      " 84%|████████▍ | 1384448/1648877 [00:26<00:03, 85297.98it/s]\u001b[A\n",
      " 85%|████████▍ | 1400832/1648877 [00:26<00:02, 89333.14it/s]\u001b[A\n",
      " 86%|████████▌ | 1417216/1648877 [00:26<00:02, 81822.79it/s]\u001b[A\n",
      " 87%|████████▋ | 1433600/1648877 [00:26<00:02, 93180.47it/s]\u001b[A\n",
      " 88%|████████▊ | 1458176/1648877 [00:27<00:01, 101651.70it/s]\u001b[A\n",
      " 89%|████████▉ | 1474560/1648877 [00:27<00:01, 110949.11it/s]\u001b[A\n",
      " 90%|█████████ | 1490944/1648877 [00:27<00:01, 100583.71it/s]\u001b[A\n",
      " 91%|█████████▏| 1507328/1648877 [00:27<00:01, 113220.33it/s]\u001b[A\n",
      " 92%|█████████▏| 1523712/1648877 [00:27<00:01, 102118.62it/s]\u001b[A\n",
      " 94%|█████████▍| 1548288/1648877 [00:27<00:00, 119938.36it/s]\u001b[A\n",
      " 95%|█████████▍| 1564672/1648877 [00:27<00:00, 112588.85it/s]\u001b[A\n",
      " 96%|█████████▋| 1589248/1648877 [00:28<00:00, 126417.61it/s]\u001b[A\n",
      " 97%|█████████▋| 1605632/1648877 [00:28<00:00, 98472.91it/s] \u001b[A\n",
      " 99%|█████████▉| 1630208/1648877 [00:28<00:00, 118617.63it/s]\u001b[A\n",
      "100%|█████████▉| 1646592/1648877 [00:28<00:00, 110040.69it/s]\u001b[A\n",
      "\n",
      "0it [00:00, ?it/s]\u001b[A\u001b[A"
     ]
    },
    {
     "name": "stdout",
     "output_type": "stream",
     "text": [
      "Extracting /home/mrinmoi/60DaysOfUdacity/Lesson_2-Deep_Learning_with_PyTorch/2_Building_Fully_Connected_Neural_Networks/MNIST/raw/t10k-images-idx3-ubyte.gz\n",
      "Downloading http://yann.lecun.com/exdb/mnist/t10k-labels-idx1-ubyte.gz to /home/mrinmoi/60DaysOfUdacity/Lesson_2-Deep_Learning_with_PyTorch/2_Building_Fully_Connected_Neural_Networks/MNIST/raw/t10k-labels-idx1-ubyte.gz\n"
     ]
    },
    {
     "name": "stderr",
     "output_type": "stream",
     "text": [
      "\n",
      "\n",
      "  0%|          | 0/4542 [00:00<?, ?it/s]\u001b[A\u001b[A\n",
      "\n",
      "8192it [00:00, 13998.13it/s]            \u001b[A\u001b[A"
     ]
    },
    {
     "name": "stdout",
     "output_type": "stream",
     "text": [
      "Extracting /home/mrinmoi/60DaysOfUdacity/Lesson_2-Deep_Learning_with_PyTorch/2_Building_Fully_Connected_Neural_Networks/MNIST/raw/t10k-labels-idx1-ubyte.gz\n",
      "Processing...\n",
      "Done!\n"
     ]
    },
    {
     "name": "stderr",
     "output_type": "stream",
     "text": [
      "\n",
      "1654784it [00:47, 110040.69it/s]                             \u001b[A"
     ]
    }
   ],
   "source": [
    "### Run this cell\n",
    "from torchvision import datasets, transforms\n",
    "\n",
    "# Define a transform to normalize the data\n",
    "transform = transforms.Compose([transforms.ToTensor(),\n",
    "                              transforms.Normalize((0.5,), (0.5,)),\n",
    "                              ])\n",
    "\n",
    "# Download and load the training data\n",
    "trainset = datasets.MNIST('~/60DaysOfUdacity/Lesson_2-Deep_Learning_with_PyTorch/2_Building_Fully_Connected_Neural_Networks/', download=True, train=True, transform=transform)\n",
    "trainloader = torch.utils.data.DataLoader(trainset, batch_size=64, shuffle=True)"
   ]
  },
  {
   "cell_type": "markdown",
   "metadata": {},
   "source": [
    "We have the training data loaded into `trainloader` and we make that an iterator with `iter(trainloader)`. Later, we'll use this to loop through the dataset for training, like\n",
    "\n",
    "```python\n",
    "for image, label in trainloader:\n",
    "    ## do things with images and labels\n",
    "```\n",
    "\n",
    "You'll notice I created the `trainloader` with a batch size of 64, and `shuffle=True`. The batch size is the number of images we get in one iteration from the data loader and pass through our network, often called a *batch*. And `shuffle=True` tells it to shuffle the dataset every time we start going through the data loader again. But here I'm just grabbing the first batch so we can check out the data. We can see below that `images` is just a tensor with size `(64, 1, 28, 28)`. So, 64 images per batch, 1 color channel, and 28x28 images."
   ]
  },
  {
   "cell_type": "code",
   "execution_count": 3,
   "metadata": {},
   "outputs": [
    {
     "name": "stdout",
     "output_type": "stream",
     "text": [
      "<class 'torch.Tensor'>\n",
      "torch.Size([64, 1, 28, 28])\n",
      "torch.Size([64])\n"
     ]
    }
   ],
   "source": [
    "dataiter = iter(trainloader)\n",
    "images, labels = dataiter.next()\n",
    "print(type(images))\n",
    "print(images.shape)\n",
    "print(labels.shape)"
   ]
  },
  {
   "cell_type": "markdown",
   "metadata": {},
   "source": [
    "This is what one of the images looks like. "
   ]
  },
  {
   "cell_type": "code",
   "execution_count": 4,
   "metadata": {},
   "outputs": [
    {
     "data": {
      "text/plain": [
       "<matplotlib.image.AxesImage at 0x7f49644e3a90>"
      ]
     },
     "execution_count": 4,
     "metadata": {},
     "output_type": "execute_result"
    },
    {
     "data": {
      "image/png": "[encoded data removed]",
      "text/plain": [
       "<Figure size 432x288 with 1 Axes>"
      ]
     },
     "metadata": {
      "image/png": {
       "height": 250,
       "width": 253
      },
      "needs_background": "light"
     },
     "output_type": "display_data"
    }
   ],
   "source": [
    "plt.imshow(images[1].numpy().squeeze(), cmap='Greys_r')"
   ]
  },
  {
   "cell_type": "markdown",
   "metadata": {},
   "source": [
    "First, let's try to build a simple network for this dataset using weight matrices and matrix multiplications. Then, we'll see how to do it using PyTorch's `nn` module which provides a much more convenient and powerful method for defining network architectures.\n",
    "\n",
    "The networks you've seen so far are called *fully-connected* or *dense* networks. Each unit in one layer is connected to each unit in the next layer. In fully-connected networks, the input to each layer must be a one-dimensional vector (which can be stacked into a 2D tensor as a batch of multiple examples). However, our images are 28x28 2D tensors, so we need to convert them into 1D vectors. Thinking about sizes, we need to convert the batch of images with shape `(64, 1, 28, 28)` to a have a shape of `(64, 784)`, 784 is 28 times 28. This is typically called *flattening*, we flattened the 2D images into 1D vectors.\n",
    "\n",
    "Previously you built a network with one output unit. Here we need 10 output units, one for each digit. We want our network to predict the digit shown in an image, so what we'll do is calculate probabilities that the image is of any one digit or class. This ends up being a discrete probability distribution over the classes (digits) that tells us the most likely class for the image. That means we need 10 output units for the 10 classes (digits). We'll see how to convert the network output into a probability distribution next.\n",
    "\n",
    "> **Exercise:** Flatten the batch of images `images`. Then build a multi-layer network with 784 input units, 256 hidden units, and 10 output units using random tensors for the weights and biases. For now, use a sigmoid activation for the hidden layer. Leave the output layer without an activation, we'll add one that gives us a probability distribution next."
   ]
  },
  {
   "cell_type": "code",
   "execution_count": 5,
   "metadata": {},
   "outputs": [],
   "source": [
    "## Your solution\n",
    "def activation(x):\n",
    "    return 1/(1+torch.exp(-x))\n",
    "\n",
    "inputs = images.view(images.shape[0], -1)\n",
    "\n",
    "w1 = torch.randn(784, 256)\n",
    "b1 = torch.randn(256)\n",
    "\n",
    "w2 = torch.randn(256, 10)\n",
    "b2 = torch.randn(10)\n",
    "\n",
    "h = activation(torch.mm(inputs, w1) + b1)\n",
    "out = torch.mm(h, w2) + b2 # output of your network, should have shape (64,10)"
   ]
  },
  {
   "cell_type": "markdown",
   "metadata": {},
   "source": [
    "Now we have 10 outputs for our network. We want to pass in an image to our network and get out a probability distribution over the classes that tells us the likely class(es) the image belongs to. Something that looks like this:\n",
    "<img src='assets/image_distribution.png' width=500px>\n",
    "\n",
    "Here we see that the probability for each class is roughly the same. This is representing an untrained network, it hasn't seen any data yet so it just returns a uniform distribution with equal probabilities for each class.\n",
    "\n",
    "To calculate this probability distribution, we often use the [**softmax** function](https://en.wikipedia.org/wiki/Softmax_function). Mathematically this looks like\n",
    "\n",
    "$$\n",
    "\\Large \\sigma(x_i) = \\cfrac{e^{x_i}}{\\sum_k^K{e^{x_k}}}\n",
    "$$\n",
    "\n",
    "What this does is squish each input $x_i$ between 0 and 1 and normalizes the values to give you a proper probability distribution where the probabilites sum up to one.\n",
    "\n",
    "> **Exercise:** Implement a function `softmax` that performs the softmax calculation and returns probability distributions for each example in the batch. Note that you'll need to pay attention to the shapes when doing this. If you have a tensor `a` with shape `(64, 10)` and a tensor `b` with shape `(64,)`, doing `a/b` will give you an error because PyTorch will try to do the division across the columns (called broadcasting) but you'll get a size mismatch. The way to think about this is for each of the 64 examples, you only want to divide by one value, the sum in the denominator. So you need `b` to have a shape of `(64, 1)`. This way PyTorch will divide the 10 values in each row of `a` by the one value in each row of `b`. Pay attention to how you take the sum as well. You'll need to define the `dim` keyword in `torch.sum`. Setting `dim=0` takes the sum across the rows while `dim=1` takes the sum across the columns."
   ]
  },
  {
   "cell_type": "code",
   "execution_count": 6,
   "metadata": {},
   "outputs": [
    {
     "name": "stdout",
     "output_type": "stream",
     "text": [
      "torch.Size([64, 10])\n",
      "tensor([1.0000, 1.0000, 1.0000, 1.0000, 1.0000, 1.0000, 1.0000, 1.0000, 1.0000,\n",
      "        1.0000, 1.0000, 1.0000, 1.0000, 1.0000, 1.0000, 1.0000, 1.0000, 1.0000,\n",
      "        1.0000, 1.0000, 1.0000, 1.0000, 1.0000, 1.0000, 1.0000, 1.0000, 1.0000,\n",
      "        1.0000, 1.0000, 1.0000, 1.0000, 1.0000, 1.0000, 1.0000, 1.0000, 1.0000,\n",
      "        1.0000, 1.0000, 1.0000, 1.0000, 1.0000, 1.0000, 1.0000, 1.0000, 1.0000,\n",
      "        1.0000, 1.0000, 1.0000, 1.0000, 1.0000, 1.0000, 1.0000, 1.0000, 1.0000,\n",
      "        1.0000, 1.0000, 1.0000, 1.0000, 1.0000, 1.0000, 1.0000, 1.0000, 1.0000,\n",
      "        1.0000])\n"
     ]
    }
   ],
   "source": [
    "def softmax(x):\n",
    "    return torch.exp(x) / torch.sum(torch.exp(x), dim = 1).view(-1, 1) ## TODO: Implement the softmax function here\n",
    "\n",
    "# Here, out should be the output of the network in the previous excercise with shape (64,10)\n",
    "probabilities = softmax(out)\n",
    "\n",
    "# Does it have the right shape? Should be (64, 10)\n",
    "print(probabilities.shape)\n",
    "# Does it sum to 1?\n",
    "print(probabilities.sum(dim=1))"
   ]
  },
  {
   "cell_type": "markdown",
   "metadata": {},
   "source": [
    "## Building networks with PyTorch\n",
    "\n",
    "PyTorch provides a module `nn` that makes building networks much simpler. Here I'll show you how to build the same one as above with 784 inputs, 256 hidden units, 10 output units and a softmax output."
   ]
  },
  {
   "cell_type": "code",
   "execution_count": 7,
   "metadata": {},
   "outputs": [],
   "source": [
    "from torch import nn"
   ]
  },
  {
   "cell_type": "code",
   "execution_count": 8,
   "metadata": {},
   "outputs": [],
   "source": [
    "class Network(nn.Module):\n",
    "    def __init__(self):\n",
    "        super().__init__()\n",
    "        \n",
    "        # Inputs to hidden layer linear transformation\n",
    "        self.hidden = nn.Linear(784, 256)\n",
    "        # Output layer, 10 units - one for each digit\n",
    "        self.output = nn.Linear(256, 10)\n",
    "        \n",
    "        # Define sigmoid activation and softmax output \n",
    "        self.sigmoid = nn.Sigmoid()\n",
    "        self.softmax = nn.Softmax(dim=1)\n",
    "        \n",
    "    def forward(self, x):\n",
    "        # Pass the input tensor through each of our operations\n",
    "        x = self.hidden(x)\n",
    "        x = self.sigmoid(x)\n",
    "        x = self.output(x)\n",
    "        x = self.softmax(x)\n",
    "        \n",
    "        return x"
   ]
  },
  {
   "cell_type": "markdown",
   "metadata": {},
   "source": [
    "Let's go through this bit by bit.\n",
    "\n",
    "```python\n",
    "class Network(nn.Module):\n",
    "```\n",
    "\n",
    "Here we're inheriting from `nn.Module`. Combined with `super().__init__()` this creates a class that tracks the architecture and provides a lot of useful methods and attributes. It is mandatory to inherit from `nn.Module` when you're creating a class for your network. The name of the class itself can be anything.\n",
    "\n",
    "```python\n",
    "self.hidden = nn.Linear(784, 256)\n",
    "```\n",
    "\n",
    "This line creates a module for a linear transformation, $x\\mathbf{W} + b$, with 784 inputs and 256 outputs and assigns it to `self.hidden`. The module automatically creates the weight and bias tensors which we'll use in the `forward` method. You can access the weight and bias tensors once the network (`net`) is created with `net.hidden.weight` and `net.hidden.bias`.\n",
    "\n",
    "```python\n",
    "self.output = nn.Linear(256, 10)\n",
    "```\n",
    "\n",
    "Similarly, this creates another linear transformation with 256 inputs and 10 outputs.\n",
    "\n",
    "```python\n",
    "self.sigmoid = nn.Sigmoid()\n",
    "self.softmax = nn.Softmax(dim=1)\n",
    "```\n",
    "\n",
    "Here I defined operations for the sigmoid activation and softmax output. Setting `dim=1` in `nn.Softmax(dim=1)` calculates softmax across the columns.\n",
    "\n",
    "```python\n",
    "def forward(self, x):\n",
    "```\n",
    "\n",
    "PyTorch networks created with `nn.Module` must have a `forward` method defined. It takes in a tensor `x` and passes it through the operations you defined in the `__init__` method.\n",
    "\n",
    "```python\n",
    "x = self.hidden(x)\n",
    "x = self.sigmoid(x)\n",
    "x = self.output(x)\n",
    "x = self.softmax(x)\n",
    "```\n",
    "\n",
    "Here the input tensor `x` is passed through each operation and reassigned to `x`. We can see that the input tensor goes through the hidden layer, then a sigmoid function, then the output layer, and finally the softmax function. It doesn't matter what you name the variables here, as long as the inputs and outputs of the operations match the network architecture you want to build. The order in which you define things in the `__init__` method doesn't matter, but you'll need to sequence the operations correctly in the `forward` method.\n",
    "\n",
    "Now we can create a `Network` object."
   ]
  },
  {
   "cell_type": "code",
   "execution_count": 9,
   "metadata": {},
   "outputs": [
    {
     "data": {
      "text/plain": [
       "Network(\n",
       "  (hidden): Linear(in_features=784, out_features=256, bias=True)\n",
       "  (output): Linear(in_features=256, out_features=10, bias=True)\n",
       "  (sigmoid): Sigmoid()\n",
       "  (softmax): Softmax()\n",
       ")"
      ]
     },
     "execution_count": 9,
     "metadata": {},
     "output_type": "execute_result"
    }
   ],
   "source": [
    "# Create the network and look at it's text representation\n",
    "model = Network()\n",
    "model"
   ]
  },
  {
   "cell_type": "markdown",
   "metadata": {},
   "source": [
    "You can define the network somewhat more concisely and clearly using the `torch.nn.functional` module. This is the most common way you'll see networks defined as many operations are simple element-wise functions. We normally import this module as `F`, `import torch.nn.functional as F`."
   ]
  },
  {
   "cell_type": "code",
   "execution_count": 10,
   "metadata": {},
   "outputs": [],
   "source": [
    "import torch.nn.functional as F\n",
    "\n",
    "class Network(nn.Module):\n",
    "    def __init__(self):\n",
    "        super().__init__()\n",
    "        # Inputs to hidden layer linear transformation\n",
    "        self.hidden = nn.Linear(784, 256)\n",
    "        # Output layer, 10 units - one for each digit\n",
    "        self.output = nn.Linear(256, 10)\n",
    "        \n",
    "    def forward(self, x):\n",
    "        # Hidden layer with sigmoid activation\n",
    "        x = F.sigmoid(self.hidden(x))\n",
    "        # Output layer with softmax activation\n",
    "        x = F.softmax(self.output(x), dim=1)\n",
    "        \n",
    "        return x"
   ]
  },
  {
   "cell_type": "markdown",
   "metadata": {},
   "source": [
    "### Activation functions\n",
    "\n",
    "So far we've only been looking at the sigmoid activation function, but in general any function can be used as an activation function. The only requirement is that for a network to approximate a non-linear function, the activation functions must be non-linear. Here are a few more examples of common activation functions: Tanh (hyperbolic tangent), and ReLU (rectified linear unit).\n",
    "\n",
    "<img src=\"assets/activation.png\" width=700px>\n",
    "\n",
    "In practice, the ReLU function is used almost exclusively as the activation function for hidden layers."
   ]
  },
  {
   "cell_type": "markdown",
   "metadata": {},
   "source": [
    "### Your Turn to Build a Network\n",
    "\n",
    "<img src=\"assets/mlp_mnist.png\" width=600px>\n",
    "\n",
    "> **Exercise:** Create a network with 784 input units, a hidden layer with 128 units and a ReLU activation, then a hidden layer with 64 units and a ReLU activation, and finally an output layer with a softmax activation as shown above. You can use a ReLU activation with the `nn.ReLU` module or `F.relu` function.\n",
    "\n",
    "It's good practice to name your layers by their type of network, for instance 'fc' to represent a fully-connected layer. As you code your solution, use `fc1`, `fc2`, and `fc3` as your layer names."
   ]
  },
  {
   "cell_type": "code",
   "execution_count": 11,
   "metadata": {
    "scrolled": true
   },
   "outputs": [
    {
     "data": {
      "text/plain": [
       "Network(\n",
       "  (fc1): Linear(in_features=784, out_features=128, bias=True)\n",
       "  (fc2): Linear(in_features=128, out_features=64, bias=True)\n",
       "  (fc3): Linear(in_features=64, out_features=10, bias=True)\n",
       ")"
      ]
     },
     "execution_count": 11,
     "metadata": {},
     "output_type": "execute_result"
    }
   ],
   "source": [
    "## Your solution here\n",
    "class Network(nn.Module):\n",
    "    def __init__(self):\n",
    "        super().__init__()\n",
    "        self.fc1 = nn.Linear(784, 128)\n",
    "        self.fc2 = nn.Linear(128, 64)\n",
    "        self.fc3 = nn.Linear(64, 10)\n",
    "        \n",
    "    def forward(self, x):\n",
    "        x = self.fc1(x)\n",
    "        x = F.relu(x)\n",
    "        x = self.fc2(x)\n",
    "        x = F.relu(x)\n",
    "        x = self.fc3(x)\n",
    "        x = F.softmax(x, dim = 1)\n",
    "        \n",
    "        return x\n",
    "    \n",
    "model = Network()\n",
    "model"
   ]
  },
  {
   "cell_type": "markdown",
   "metadata": {},
   "source": [
    "### Initializing weights and biases\n",
    "\n",
    "The weights and such are automatically initialized for you, but it's possible to customize how they are initialized. The weights and biases are tensors attached to the layer you defined, you can get them with `model.fc1.weight` for instance."
   ]
  },
  {
   "cell_type": "code",
   "execution_count": 12,
   "metadata": {},
   "outputs": [
    {
     "name": "stdout",
     "output_type": "stream",
     "text": [
      "Parameter containing:\n",
      "tensor([[ 0.0319, -0.0300,  0.0122,  ..., -0.0036, -0.0045, -0.0340],\n",
      "        [ 0.0097, -0.0305,  0.0042,  ...,  0.0104,  0.0180,  0.0335],\n",
      "        [-0.0258,  0.0225,  0.0246,  ..., -0.0297, -0.0128, -0.0169],\n",
      "        ...,\n",
      "        [ 0.0234,  0.0183, -0.0153,  ...,  0.0151,  0.0050,  0.0137],\n",
      "        [-0.0051, -0.0258,  0.0158,  ..., -0.0034,  0.0183, -0.0023],\n",
      "        [-0.0229,  0.0285, -0.0024,  ..., -0.0069, -0.0077, -0.0211]],\n",
      "       requires_grad=True)\n",
      "Parameter containing:\n",
      "tensor([-0.0247,  0.0334,  0.0095, -0.0009, -0.0130, -0.0307, -0.0268, -0.0044,\n",
      "         0.0115,  0.0274,  0.0100,  0.0141, -0.0052,  0.0002, -0.0344, -0.0356,\n",
      "         0.0338, -0.0205, -0.0061,  0.0176,  0.0084,  0.0015, -0.0350,  0.0309,\n",
      "        -0.0048, -0.0196, -0.0164,  0.0329,  0.0321,  0.0003, -0.0027, -0.0069,\n",
      "        -0.0348,  0.0107,  0.0349, -0.0040, -0.0336,  0.0088,  0.0056, -0.0158,\n",
      "        -0.0022,  0.0075, -0.0123,  0.0195,  0.0218, -0.0328, -0.0248, -0.0266,\n",
      "         0.0017, -0.0204,  0.0202, -0.0098,  0.0304,  0.0217,  0.0009, -0.0024,\n",
      "         0.0336, -0.0187,  0.0163, -0.0212, -0.0327,  0.0186, -0.0040,  0.0101,\n",
      "        -0.0143, -0.0009,  0.0271, -0.0167, -0.0020, -0.0085,  0.0084,  0.0114,\n",
      "        -0.0124,  0.0164, -0.0332, -0.0241, -0.0091,  0.0283, -0.0017, -0.0018,\n",
      "         0.0319,  0.0185,  0.0105, -0.0256, -0.0135,  0.0213, -0.0261, -0.0190,\n",
      "        -0.0201,  0.0274,  0.0193,  0.0034,  0.0252,  0.0256, -0.0018, -0.0192,\n",
      "         0.0198,  0.0093, -0.0235,  0.0145,  0.0258,  0.0139, -0.0119,  0.0312,\n",
      "        -0.0010, -0.0343,  0.0238, -0.0087,  0.0020, -0.0059,  0.0014, -0.0356,\n",
      "        -0.0095,  0.0125, -0.0052, -0.0194, -0.0011,  0.0310,  0.0290, -0.0094,\n",
      "        -0.0058,  0.0047,  0.0301, -0.0168,  0.0156, -0.0060, -0.0047, -0.0093],\n",
      "       requires_grad=True)\n"
     ]
    }
   ],
   "source": [
    "print(model.fc1.weight)\n",
    "print(model.fc1.bias)"
   ]
  },
  {
   "cell_type": "markdown",
   "metadata": {},
   "source": [
    "For custom initialization, we want to modify these tensors in place. These are actually autograd *Variables*, so we need to get back the actual tensors with `model.fc1.weight.data`. Once we have the tensors, we can fill them with zeros (for biases) or random normal values."
   ]
  },
  {
   "cell_type": "code",
   "execution_count": 13,
   "metadata": {},
   "outputs": [
    {
     "data": {
      "text/plain": [
       "tensor([0., 0., 0., 0., 0., 0., 0., 0., 0., 0., 0., 0., 0., 0., 0., 0., 0., 0., 0., 0., 0., 0., 0., 0.,\n",
       "        0., 0., 0., 0., 0., 0., 0., 0., 0., 0., 0., 0., 0., 0., 0., 0., 0., 0., 0., 0., 0., 0., 0., 0.,\n",
       "        0., 0., 0., 0., 0., 0., 0., 0., 0., 0., 0., 0., 0., 0., 0., 0., 0., 0., 0., 0., 0., 0., 0., 0.,\n",
       "        0., 0., 0., 0., 0., 0., 0., 0., 0., 0., 0., 0., 0., 0., 0., 0., 0., 0., 0., 0., 0., 0., 0., 0.,\n",
       "        0., 0., 0., 0., 0., 0., 0., 0., 0., 0., 0., 0., 0., 0., 0., 0., 0., 0., 0., 0., 0., 0., 0., 0.,\n",
       "        0., 0., 0., 0., 0., 0., 0., 0.])"
      ]
     },
     "execution_count": 13,
     "metadata": {},
     "output_type": "execute_result"
    }
   ],
   "source": [
    "# Set biases to all zeros\n",
    "model.fc1.bias.data.fill_(0)"
   ]
  },
  {
   "cell_type": "code",
   "execution_count": 14,
   "metadata": {},
   "outputs": [
    {
     "data": {
      "text/plain": [
       "tensor([[-0.0133,  0.0219, -0.0197,  ...,  0.0034,  0.0111, -0.0016],\n",
       "        [-0.0025,  0.0114,  0.0081,  ..., -0.0045, -0.0112,  0.0008],\n",
       "        [ 0.0148, -0.0061,  0.0025,  ...,  0.0088,  0.0015, -0.0007],\n",
       "        ...,\n",
       "        [ 0.0181, -0.0198,  0.0065,  ..., -0.0053, -0.0028,  0.0018],\n",
       "        [ 0.0005, -0.0162,  0.0187,  ..., -0.0005,  0.0046, -0.0045],\n",
       "        [ 0.0058,  0.0080,  0.0013,  ..., -0.0094,  0.0142, -0.0124]])"
      ]
     },
     "execution_count": 14,
     "metadata": {},
     "output_type": "execute_result"
    }
   ],
   "source": [
    "# sample from random normal with standard dev = 0.01\n",
    "model.fc1.weight.data.normal_(std=0.01)"
   ]
  },
  {
   "cell_type": "markdown",
   "metadata": {},
   "source": [
    "### Forward pass\n",
    "\n",
    "Now that we have a network, let's see what happens when we pass in an image."
   ]
  },
  {
   "cell_type": "code",
   "execution_count": 15,
   "metadata": {},
   "outputs": [
    {
     "data": {
      "image/png": "[encoded data removed]",
      "text/plain": [
       "<Figure size 432x648 with 2 Axes>"
      ]
     },
     "metadata": {
      "image/png": {
       "height": 226,
       "width": 423
      },
      "needs_background": "light"
     },
     "output_type": "display_data"
    }
   ],
   "source": [
    "# Grab some data \n",
    "dataiter = iter(trainloader)\n",
    "images, labels = dataiter.next()\n",
    "\n",
    "# Resize images into a 1D vector, new shape is (batch size, color channels, image pixels) \n",
    "images.resize_(64, 1, 784)\n",
    "# or images.resize_(images.shape[0], 1, 784) to automatically get batch size\n",
    "\n",
    "# Forward pass through the network\n",
    "img_idx = 0\n",
    "ps = model.forward(images[img_idx,:])\n",
    "\n",
    "img = images[img_idx]\n",
    "helper.view_classify(img.view(1, 28, 28), ps)"
   ]
  },
  {
   "cell_type": "markdown",
   "metadata": {},
   "source": [
    "As you can see above, our network has basically no idea what this digit is. It's because we haven't trained it yet, all the weights are random!\n",
    "\n",
    "### Using `nn.Sequential`\n",
    "\n",
    "PyTorch provides a convenient way to build networks like this where a tensor is passed sequentially through operations, `nn.Sequential` ([documentation](https://pytorch.org/docs/master/nn.html#torch.nn.Sequential)). Using this to build the equivalent network:"
   ]
  },
  {
   "cell_type": "code",
   "execution_count": 16,
   "metadata": {},
   "outputs": [
    {
     "name": "stdout",
     "output_type": "stream",
     "text": [
      "Sequential(\n",
      "  (0): Linear(in_features=784, out_features=128, bias=True)\n",
      "  (1): ReLU()\n",
      "  (2): Linear(in_features=128, out_features=64, bias=True)\n",
      "  (3): ReLU()\n",
      "  (4): Linear(in_features=64, out_features=10, bias=True)\n",
      "  (5): Softmax()\n",
      ")\n"
     ]
    },
    {
     "data": {
      "image/png": "[encoded data removed]",
      "text/plain": [
       "<Figure size 432x648 with 2 Axes>"
      ]
     },
     "metadata": {
      "image/png": {
       "height": 226,
       "width": 423
      },
      "needs_background": "light"
     },
     "output_type": "display_data"
    }
   ],
   "source": [
    "# Hyperparameters for our network\n",
    "input_size = 784\n",
    "hidden_sizes = [128, 64]\n",
    "output_size = 10\n",
    "\n",
    "# Build a feed-forward network\n",
    "model = nn.Sequential(nn.Linear(input_size, hidden_sizes[0]),\n",
    "                      nn.ReLU(),\n",
    "                      nn.Linear(hidden_sizes[0], hidden_sizes[1]),\n",
    "                      nn.ReLU(),\n",
    "                      nn.Linear(hidden_sizes[1], output_size),\n",
    "                      nn.Softmax(dim=1))\n",
    "print(model)\n",
    "\n",
    "# Forward pass through the network and display output\n",
    "images, labels = next(iter(trainloader))\n",
    "images.resize_(images.shape[0], 1, 784)\n",
    "ps = model.forward(images[0,:])\n",
    "helper.view_classify(images[0].view(1, 28, 28), ps)"
   ]
  },
  {
   "cell_type": "markdown",
   "metadata": {},
   "source": [
    "Here our model is the same as before: 784 input units, a hidden layer with 128 units, ReLU activation, 64 unit hidden layer, another ReLU, then the output layer with 10 units, and the softmax output.\n",
    "\n",
    "The operations are available by passing in the appropriate index. For example, if you want to get first Linear operation and look at the weights, you'd use `model[0]`."
   ]
  },
  {
   "cell_type": "code",
   "execution_count": 17,
   "metadata": {},
   "outputs": [
    {
     "name": "stdout",
     "output_type": "stream",
     "text": [
      "Linear(in_features=784, out_features=128, bias=True)\n"
     ]
    },
    {
     "data": {
      "text/plain": [
       "Parameter containing:\n",
       "tensor([[-0.0120, -0.0268,  0.0091,  ..., -0.0185, -0.0238, -0.0236],\n",
       "        [-0.0349,  0.0338,  0.0016,  ..., -0.0126, -0.0079,  0.0310],\n",
       "        [ 0.0262,  0.0190, -0.0037,  ..., -0.0262, -0.0042,  0.0060],\n",
       "        ...,\n",
       "        [ 0.0213, -0.0126, -0.0155,  ..., -0.0011, -0.0173,  0.0109],\n",
       "        [ 0.0070,  0.0153, -0.0042,  ..., -0.0339,  0.0190,  0.0317],\n",
       "        [-0.0281, -0.0288, -0.0257,  ..., -0.0288,  0.0047, -0.0153]],\n",
       "       requires_grad=True)"
      ]
     },
     "execution_count": 17,
     "metadata": {},
     "output_type": "execute_result"
    }
   ],
   "source": [
    "print(model[0])\n",
    "model[0].weight"
   ]
  },
  {
   "cell_type": "markdown",
   "metadata": {},
   "source": [
    "You can also pass in an `OrderedDict` to name the individual layers and operations, instead of using incremental integers. Note that dictionary keys must be unique, so _each operation must have a different name_."
   ]
  },
  {
   "cell_type": "code",
   "execution_count": 18,
   "metadata": {},
   "outputs": [
    {
     "data": {
      "text/plain": [
       "Sequential(\n",
       "  (fc1): Linear(in_features=784, out_features=128, bias=True)\n",
       "  (relu1): ReLU()\n",
       "  (fc2): Linear(in_features=128, out_features=64, bias=True)\n",
       "  (relu2): ReLU()\n",
       "  (output): Linear(in_features=64, out_features=10, bias=True)\n",
       "  (softmax): Softmax()\n",
       ")"
      ]
     },
     "execution_count": 18,
     "metadata": {},
     "output_type": "execute_result"
    }
   ],
   "source": [
    "from collections import OrderedDict\n",
    "model = nn.Sequential(OrderedDict([\n",
    "                      ('fc1', nn.Linear(input_size, hidden_sizes[0])),\n",
    "                      ('relu1', nn.ReLU()),\n",
    "                      ('fc2', nn.Linear(hidden_sizes[0], hidden_sizes[1])),\n",
    "                      ('relu2', nn.ReLU()),\n",
    "                      ('output', nn.Linear(hidden_sizes[1], output_size)),\n",
    "                      ('softmax', nn.Softmax(dim=1))]))\n",
    "model"
   ]
  },
  {
   "cell_type": "markdown",
   "metadata": {},
   "source": [
    "Now you can access layers either by integer or the name"
   ]
  },
  {
   "cell_type": "code",
   "execution_count": 19,
   "metadata": {},
   "outputs": [
    {
     "name": "stdout",
     "output_type": "stream",
     "text": [
      "Linear(in_features=784, out_features=128, bias=True)\n",
      "Linear(in_features=784, out_features=128, bias=True)\n"
     ]
    }
   ],
   "source": [
    "print(model[0])\n",
    "print(model.fc1)"
   ]
  },
  {
   "cell_type": "markdown",
   "metadata": {},
   "source": [
    "In the next notebook, we'll see how we can train a neural network to accuractly predict the numbers appearing in the MNIST images."
   ]
  }
 ],
 "metadata": {
  "kernelspec": {
   "display_name": "Python 3",
   "language": "python",
   "name": "python3"
  },
  "language_info": {
   "codemirror_mode": {
    "name": "ipython",
    "version": 3
   },
   "file_extension": ".py",
   "mimetype": "text/x-python",
   "name": "python",
   "nbconvert_exporter": "python",
   "pygments_lexer": "ipython3",
   "version": "3.7.3"
  }
 },
 "nbformat": 4,
 "nbformat_minor": 2
}
